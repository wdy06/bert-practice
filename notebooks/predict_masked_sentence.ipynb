{
 "cells": [
  {
   "cell_type": "code",
   "execution_count": 1,
   "metadata": {},
   "outputs": [],
   "source": [
    "%load_ext autoreload\n",
    "%autoreload 2"
   ]
  },
  {
   "cell_type": "code",
   "execution_count": 2,
   "metadata": {},
   "outputs": [
    {
     "name": "stderr",
     "output_type": "stream",
     "text": [
      "/home/jovyan/.cache/pypoetry/virtualenvs/bert-practice-mMzgu-b7-py3.8/lib/python3.8/site-packages/tqdm/auto.py:22: TqdmWarning: IProgress not found. Please update jupyter and ipywidgets. See https://ipywidgets.readthedocs.io/en/stable/user_install.html\n",
      "  from .autonotebook import tqdm as notebook_tqdm\n"
     ]
    }
   ],
   "source": [
    "import numpy as np\n",
    "import torch\n",
    "\n",
    "from transformers import BertJapaneseTokenizer, BertForMaskedLM"
   ]
  },
  {
   "cell_type": "code",
   "execution_count": 3,
   "metadata": {},
   "outputs": [
    {
     "name": "stderr",
     "output_type": "stream",
     "text": [
      "Some weights of the model checkpoint at cl-tohoku/bert-base-japanese-whole-word-masking were not used when initializing BertForMaskedLM: ['cls.seq_relationship.bias', 'cls.seq_relationship.weight']\n",
      "- This IS expected if you are initializing BertForMaskedLM from the checkpoint of a model trained on another task or with another architecture (e.g. initializing a BertForSequenceClassification model from a BertForPreTraining model).\n",
      "- This IS NOT expected if you are initializing BertForMaskedLM from the checkpoint of a model that you expect to be exactly identical (initializing a BertForSequenceClassification model from a BertForSequenceClassification model).\n"
     ]
    }
   ],
   "source": [
    "model_name = \"cl-tohoku/bert-base-japanese-whole-word-masking\"\n",
    "tokenizer = BertJapaneseTokenizer.from_pretrained(model_name)\n",
    "bert_mlm = BertForMaskedLM.from_pretrained(model_name)"
   ]
  },
  {
   "cell_type": "code",
   "execution_count": 4,
   "metadata": {},
   "outputs": [
    {
     "name": "stdout",
     "output_type": "stream",
     "text": [
      "{'input_ids': [2, 3246, 9, 4, 118, 3488, 8, 3], 'token_type_ids': [0, 0, 0, 0, 0, 0, 0, 0], 'attention_mask': [1, 1, 1, 1, 1, 1, 1, 1]}\n",
      "['今日', 'は', '[MASK]', 'へ', '行く', '。']\n"
     ]
    }
   ],
   "source": [
    "text = \"今日は[MASK]へ行く。\"\n",
    "tokens = tokenizer.tokenize(text)\n",
    "print(tokenizer(text))\n",
    "print(tokens)"
   ]
  },
  {
   "cell_type": "code",
   "execution_count": 5,
   "metadata": {},
   "outputs": [
    {
     "name": "stdout",
     "output_type": "stream",
     "text": [
      "tensor([[   2, 3246,    9,    4,  118, 3488,    8,    3]])\n",
      "torch.Size([1, 8, 32000])\n"
     ]
    }
   ],
   "source": [
    "input_ids = tokenizer.encode(text, return_tensors=\"pt\")\n",
    "print(input_ids)\n",
    "with torch.no_grad():\n",
    "    output = bert_mlm(input_ids=input_ids)\n",
    "    scores = output.logits\n",
    "\n",
    "# ID列で'[MASK]'（IDは4）の位置を調べる\n",
    "mask_position = input_ids[0].tolist().index(4)\n",
    "\n",
    "print(scores.shape)"
   ]
  },
  {
   "cell_type": "code",
   "execution_count": 6,
   "metadata": {},
   "outputs": [
    {
     "name": "stdout",
     "output_type": "stream",
     "text": [
      "今日は東京へ行く。\n"
     ]
    }
   ],
   "source": [
    "\n",
    "id_best = scores[0, mask_position].argmax(-1).item()\n",
    "token_best = tokenizer.convert_ids_to_tokens(id_best)\n",
    "token_best = token_best.replace(\"##\", \"\")\n",
    "\n",
    "text = text.replace(\"[MASK]\", token_best)\n",
    "\n",
    "print(text)"
   ]
  },
  {
   "cell_type": "code",
   "execution_count": 11,
   "metadata": {},
   "outputs": [],
   "source": [
    "def predict_mask_topk(text, tokenizer, bert_mlm, num_topk):\n",
    "    \"\"\"文書中の最初の[MASK]をスコア上位のトークンに置き換える\n",
    "    \"\"\"\n",
    "    input_ids = tokenizer.encode(text,return_tensors=\"pt\")\n",
    "    with torch.no_grad():\n",
    "        output = bert_mlm(input_ids=input_ids)\n",
    "    scores = output.logits\n",
    "\n",
    "    mask_position = input_ids[0].tolist().index(4)\n",
    "    topk = scores[0, mask_position].topk(num_topk)\n",
    "    ids_topk =  topk.indices # token ID\n",
    "    tokens_topk = tokenizer.convert_ids_to_tokens(ids_topk)\n",
    "    scores_topk = topk.values.numpy()\n",
    "\n",
    "    text_topk = []\n",
    "    for token in tokens_topk:\n",
    "        token = token.replace('##', '')\n",
    "        text_topk.append(text.replace(\"[MASK]\", token, 1))\n",
    "    return text_topk, scores_topk"
   ]
  },
  {
   "cell_type": "code",
   "execution_count": 12,
   "metadata": {},
   "outputs": [
    {
     "name": "stdout",
     "output_type": "stream",
     "text": [
      "今日は東京へ行く。\n",
      "今日はハワイへ行く。\n",
      "今日は学校へ行く。\n",
      "今日はニューヨークへ行く。\n",
      "今日はどこへ行く。\n",
      "今日は空港へ行く。\n",
      "今日はアメリカへ行く。\n",
      "今日は病院へ行く。\n",
      "今日はそこへ行く。\n",
      "今日はロンドンへ行く。\n"
     ]
    }
   ],
   "source": [
    "text = '今日は[MASK]へ行く。'\n",
    "text_topk, _ = predict_mask_topk(text,tokenizer, bert_mlm, 10)\n",
    "print(*text_topk, sep='\\n')"
   ]
  },
  {
   "cell_type": "code",
   "execution_count": null,
   "metadata": {},
   "outputs": [],
   "source": []
  }
 ],
 "metadata": {
  "kernelspec": {
   "display_name": "bert-practice-mMzgu-b7-py3.8",
   "language": "python",
   "name": "python3"
  },
  "language_info": {
   "codemirror_mode": {
    "name": "ipython",
    "version": 3
   },
   "file_extension": ".py",
   "mimetype": "text/x-python",
   "name": "python",
   "nbconvert_exporter": "python",
   "pygments_lexer": "ipython3",
   "version": "3.8.10 (default, Dec 15 2022, 21:19:22) \n[GCC 11.3.0]"
  },
  "orig_nbformat": 4,
  "vscode": {
   "interpreter": {
    "hash": "23326a8809963bbbc8835b1c317450501e95baa1b9baebc29fb0a4f3937077e5"
   }
  }
 },
 "nbformat": 4,
 "nbformat_minor": 2
}
